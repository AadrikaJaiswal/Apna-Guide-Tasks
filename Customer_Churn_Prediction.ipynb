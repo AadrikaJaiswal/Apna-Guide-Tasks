{
  "nbformat": 4,
  "nbformat_minor": 0,
  "metadata": {
    "colab": {
      "provenance": [],
      "authorship_tag": "ABX9TyOFDCWkb8Tay8SVf2SA1Ct1",
      "include_colab_link": true
    },
    "kernelspec": {
      "name": "python3",
      "display_name": "Python 3"
    },
    "language_info": {
      "name": "python"
    }
  },
  "cells": [
    {
      "cell_type": "markdown",
      "metadata": {
        "id": "view-in-github",
        "colab_type": "text"
      },
      "source": [
        "<a href=\"https://colab.research.google.com/github/AadrikaJaiswal/Apna-Guide-Tasks/blob/main/Customer_Churn_Prediction.ipynb\" target=\"_parent\"><img src=\"https://colab.research.google.com/assets/colab-badge.svg\" alt=\"Open In Colab\"/></a>"
      ]
    },
    {
      "cell_type": "code",
      "execution_count": null,
      "metadata": {
        "id": "_Uuj81HMia8N"
      },
      "outputs": [],
      "source": [
        "import pandas as pd\n",
        "import numpy as np\n",
        "from sklearn.model_selection import train_test_split\n",
        "from sklearn.preprocessing import StandardScaler\n",
        "from sklearn.metrics import classification_report, confusion_matrix\n",
        "import tensorflow as tf\n",
        "from tensorflow.keras.models import Sequential\n",
        "from tensorflow.keras.layers import Dense, Dropout\n",
        "from tensorflow.keras.utils import to_categorical\n",
        "from sklearn.utils import resample"
      ]
    },
    {
      "cell_type": "code",
      "source": [
        "df = pd.read_csv('/content/Churn-Data.csv')\n",
        "print(df.head())\n",
        "print(df.info())\n",
        "print(df.describe())"
      ],
      "metadata": {
        "colab": {
          "base_uri": "https://localhost:8080/"
        },
        "id": "V0vkod0vimKC",
        "outputId": "38d8861c-98cb-449c-a67e-812c567f0ff2"
      },
      "execution_count": null,
      "outputs": [
        {
          "output_type": "stream",
          "name": "stdout",
          "text": [
            "          cID  gender  SeniorCitizen Partner Dependents  tenure PhoneService  \\\n",
            "0  4223-BKEOR  Female              0      No        Yes      21          Yes   \n",
            "1  6035-RIIOM  Female              0      No         No      54          Yes   \n",
            "2  3797-VTIDR    Male              0     Yes         No       1           No   \n",
            "3  2568-BRGYX    Male              0      No         No       4          Yes   \n",
            "4  2775-SEFEE    Male              0      No        Yes       0          Yes   \n",
            "\n",
            "      MultipleLines InternetService OnlineSecurity  ... DeviceProtection  \\\n",
            "0                No             DSL            Yes  ...              Yes   \n",
            "1               Yes     Fiber optic             No  ...               No   \n",
            "2  No phone service             DSL             No  ...               No   \n",
            "3                No     Fiber optic             No  ...               No   \n",
            "4               Yes             DSL            Yes  ...               No   \n",
            "\n",
            "  TechSupport TV_Streaming Movie_Streaming        Contract PaperlessBilling  \\\n",
            "0          No           No             Yes        One year               No   \n",
            "1          No          Yes             Yes        Two year              Yes   \n",
            "2          No           No              No  Month-to-month              Yes   \n",
            "3          No           No              No  Month-to-month              Yes   \n",
            "4         Yes           No              No        Two year              Yes   \n",
            "\n",
            "              Method_Payment Charges_Month  TotalCharges Churn  \n",
            "0               Mailed check         64.85        1336.8    No  \n",
            "1  Bank transfer (automatic)         97.20       5129.45    No  \n",
            "2           Electronic check         23.45         23.45   Yes  \n",
            "3           Electronic check         70.20        237.95   Yes  \n",
            "4  Bank transfer (automatic)         61.90                  No  \n",
            "\n",
            "[5 rows x 21 columns]\n",
            "<class 'pandas.core.frame.DataFrame'>\n",
            "RangeIndex: 5634 entries, 0 to 5633\n",
            "Data columns (total 21 columns):\n",
            " #   Column            Non-Null Count  Dtype  \n",
            "---  ------            --------------  -----  \n",
            " 0   cID               5634 non-null   object \n",
            " 1   gender            5634 non-null   object \n",
            " 2   SeniorCitizen     5634 non-null   int64  \n",
            " 3   Partner           5634 non-null   object \n",
            " 4   Dependents        5634 non-null   object \n",
            " 5   tenure            5634 non-null   int64  \n",
            " 6   PhoneService      5634 non-null   object \n",
            " 7   MultipleLines     5634 non-null   object \n",
            " 8   InternetService   5634 non-null   object \n",
            " 9   OnlineSecurity    5634 non-null   object \n",
            " 10  OnlineBackup      5634 non-null   object \n",
            " 11  DeviceProtection  5634 non-null   object \n",
            " 12  TechSupport       5634 non-null   object \n",
            " 13  TV_Streaming      5634 non-null   object \n",
            " 14  Movie_Streaming   5634 non-null   object \n",
            " 15  Contract          5634 non-null   object \n",
            " 16  PaperlessBilling  5634 non-null   object \n",
            " 17  Method_Payment    5634 non-null   object \n",
            " 18  Charges_Month     5634 non-null   float64\n",
            " 19  TotalCharges      5634 non-null   object \n",
            " 20  Churn             5634 non-null   object \n",
            "dtypes: float64(1), int64(2), object(18)\n",
            "memory usage: 924.5+ KB\n",
            "None\n",
            "       SeniorCitizen       tenure  Charges_Month\n",
            "count    5634.000000  5634.000000    5634.000000\n",
            "mean        0.160809    32.373092      64.864253\n",
            "std         0.367388    24.424539      30.089324\n",
            "min         0.000000     0.000000      18.250000\n",
            "25%         0.000000     9.000000      35.750000\n",
            "50%         0.000000    29.000000      70.525000\n",
            "75%         0.000000    55.000000      89.937500\n",
            "max         1.000000    72.000000     118.600000\n"
          ]
        }
      ]
    },
    {
      "cell_type": "code",
      "source": [
        "df = df.dropna()"
      ],
      "metadata": {
        "id": "fTp-qbRVkAnK"
      },
      "execution_count": null,
      "outputs": []
    },
    {
      "cell_type": "code",
      "source": [
        "# Output unique values of the 'customer_type' column\n",
        "unique_values = df['Contract'].unique()\n",
        "print(unique_values)\n",
        "unique_values = df['Method_Payment'].unique()\n",
        "print(unique_values)\n",
        "unique_values = df['InternetService'].unique()\n",
        "print(unique_values)\n",
        "unique_values = df['Charges_Month'].unique()\n",
        "print(unique_values)"
      ],
      "metadata": {
        "colab": {
          "base_uri": "https://localhost:8080/"
        },
        "id": "ka_gQLhWM2Or",
        "outputId": "bd18e40c-50ab-4438-f93d-bc1b0f900c16"
      },
      "execution_count": null,
      "outputs": [
        {
          "output_type": "stream",
          "name": "stdout",
          "text": [
            "['One year' 'Two year' 'Month-to-month']\n",
            "['Mailed check' 'Bank transfer (automatic)' 'Electronic check'\n",
            " 'Credit card (automatic)']\n",
            "['DSL' 'Fiber optic' 'No']\n",
            "[64.85 97.2  23.45 ... 59.25 35.35 21.15]\n"
          ]
        }
      ]
    },
    {
      "cell_type": "code",
      "source": [
        "# Convert categorical columns to dummy variables\n",
        "df = pd.get_dummies(df, columns=['gender', 'Partner', 'Dependents', 'PhoneService', 'MultipleLines', 'InternetService', 'OnlineSecurity', 'OnlineBackup', 'DeviceProtection', 'TechSupport', 'TV_Streaming', 'Movie_Streaming', 'Contract', 'PaperlessBilling', 'Method_Payment'])"
      ],
      "metadata": {
        "id": "32MfZLIBM-Mz"
      },
      "execution_count": null,
      "outputs": []
    },
    {
      "cell_type": "code",
      "source": [
        "# Convert \"Yes\" to 1 and \"No\" to 0 in the 'churn' column\n",
        "df['Churn'] = df['Churn'].map({'Yes': 1, 'No': 0})\n",
        "\n",
        "# Display the first few rows to verify the changes\n",
        "print(df.head())"
      ],
      "metadata": {
        "colab": {
          "base_uri": "https://localhost:8080/"
        },
        "id": "M0gVV4fINCB3",
        "outputId": "60b8e529-9f9e-4c49-99e5-c7edaf726c41"
      },
      "execution_count": null,
      "outputs": [
        {
          "output_type": "stream",
          "name": "stdout",
          "text": [
            "          cID  SeniorCitizen  tenure  Charges_Month TotalCharges  Churn  \\\n",
            "0  4223-BKEOR              0      21          64.85       1336.8      0   \n",
            "1  6035-RIIOM              0      54          97.20      5129.45      0   \n",
            "2  3797-VTIDR              0       1          23.45        23.45      1   \n",
            "3  2568-BRGYX              0       4          70.20       237.95      1   \n",
            "4  2775-SEFEE              0       0          61.90                   0   \n",
            "\n",
            "   gender_Female  gender_Male  Partner_No  Partner_Yes  ...  \\\n",
            "0           True        False        True        False  ...   \n",
            "1           True        False        True        False  ...   \n",
            "2          False         True       False         True  ...   \n",
            "3          False         True        True        False  ...   \n",
            "4          False         True        True        False  ...   \n",
            "\n",
            "   Movie_Streaming_Yes  Contract_Month-to-month  Contract_One year  \\\n",
            "0                 True                    False               True   \n",
            "1                 True                    False              False   \n",
            "2                False                     True              False   \n",
            "3                False                     True              False   \n",
            "4                False                    False              False   \n",
            "\n",
            "   Contract_Two year  PaperlessBilling_No  PaperlessBilling_Yes  \\\n",
            "0              False                 True                 False   \n",
            "1               True                False                  True   \n",
            "2              False                False                  True   \n",
            "3              False                False                  True   \n",
            "4               True                False                  True   \n",
            "\n",
            "   Method_Payment_Bank transfer (automatic)  \\\n",
            "0                                     False   \n",
            "1                                      True   \n",
            "2                                     False   \n",
            "3                                     False   \n",
            "4                                      True   \n",
            "\n",
            "   Method_Payment_Credit card (automatic)  Method_Payment_Electronic check  \\\n",
            "0                                   False                            False   \n",
            "1                                   False                            False   \n",
            "2                                   False                             True   \n",
            "3                                   False                             True   \n",
            "4                                   False                            False   \n",
            "\n",
            "   Method_Payment_Mailed check  \n",
            "0                         True  \n",
            "1                        False  \n",
            "2                        False  \n",
            "3                        False  \n",
            "4                        False  \n",
            "\n",
            "[5 rows x 47 columns]\n"
          ]
        }
      ]
    },
    {
      "cell_type": "code",
      "source": [
        "# Separate majority and minority classes\n",
        "df_majority = df[df.Churn == 0]\n",
        "df_minority = df[df.Churn == 1]\n",
        "\n",
        "# Upsample minority class\n",
        "df_minority_upsampled = resample(df_minority,\n",
        "                                 replace=True,    # sample with replacement\n",
        "                                 n_samples=len(df_majority),  # to match majority class\n",
        "                                 random_state=123)  # reproducible results\n",
        "\n",
        "# Combine majority class with upsampled minority class\n",
        "df_upsampled = pd.concat([df_majority, df_minority_upsampled])\n",
        "\n",
        "# Display new class counts\n",
        "print(df_upsampled.Churn.value_counts())"
      ],
      "metadata": {
        "colab": {
          "base_uri": "https://localhost:8080/"
        },
        "id": "Oqmc154VNMWj",
        "outputId": "9f89fb41-9d1c-4261-ad7a-f552499393b2"
      },
      "execution_count": null,
      "outputs": [
        {
          "output_type": "stream",
          "name": "stdout",
          "text": [
            "Churn\n",
            "0    4138\n",
            "1    4138\n",
            "Name: count, dtype: int64\n"
          ]
        }
      ]
    },
    {
      "cell_type": "code",
      "source": [
        "df = df.dropna()"
      ],
      "metadata": {
        "id": "OlHT42QON8f9"
      },
      "execution_count": null,
      "outputs": []
    },
    {
      "cell_type": "markdown",
      "source": [
        "This cell has errored code. But I've kept it still just for reference. The next cell contains the correct version of this cell's code"
      ],
      "metadata": {
        "id": "XWwXKxr2gEnB"
      }
    },
    {
      "cell_type": "code",
      "source": [
        "# Split data into features and target variable\n",
        "#seperate cID, features(X), target variable(y)\n",
        "# cID= df_upsampled['cID']\n",
        "# X = df_upsampled.drop(columns=['cID', 'Churn'])\n",
        "# y = df_upsampled['Churn']\n",
        "\n",
        "# # Identify non-numeric columns\n",
        "# non_numeric_columns = df.select_dtypes(exclude=['number']).columns.tolist()\n",
        "# print(non_numeric_columns)\n",
        "\n",
        "# # Handle non-numeric values\n",
        "# for column in non_numeric_columns:\n",
        "#     df[column] = pd.to_numeric(df[column], errors='coerce')\n",
        "# # Drop rows with NaN values\n",
        "# df.dropna(inplace=True)\n",
        "\n",
        "# # Train-test split\n",
        "# X_train, X_test, y_train, y_test = train_test_split(X, y, test_size=0.2, random_state=42)\n",
        "\n",
        "# # Standardize features\n",
        "# scaler = StandardScaler()\n",
        "# X_train = scaler.fit_transform(X_train)\n",
        "# X_test = scaler.transform(X_test)"
      ],
      "metadata": {
        "id": "XysQF5jaOS7c"
      },
      "execution_count": null,
      "outputs": []
    },
    {
      "cell_type": "code",
      "source": [
        "# Identify non-numeric columns\n",
        "non_numeric_columns = df_upsampled.select_dtypes(exclude=['number']).columns.tolist()\n",
        "print(non_numeric_columns)\n",
        "\n",
        "# Handle non-numeric values\n",
        "for column in non_numeric_columns:\n",
        "    df_upsampled[column] = pd.to_numeric(df[column], errors='coerce')\n",
        "# Drop rows with NaN values\n",
        "df.dropna(inplace=True)\n",
        "\n",
        "# Split data into features and target variable\n",
        "#seperate cID, features(X), target variable(y)\n",
        "cID= df_upsampled['cID']\n",
        "X = df_upsampled.drop(columns=['cID', 'Churn'])\n",
        "y = df_upsampled['Churn']\n",
        "\n",
        "# Train-test split\n",
        "X_train, X_test, y_train, y_test = train_test_split(X, y, test_size=0.2, random_state=42)\n",
        "\n",
        "# Standardize features\n",
        "scaler = StandardScaler()\n",
        "X_train = scaler.fit_transform(X_train)\n",
        "X_test = scaler.transform(X_test)"
      ],
      "metadata": {
        "colab": {
          "base_uri": "https://localhost:8080/"
        },
        "id": "BgcnUvnJffo-",
        "outputId": "faa533d9-b3f3-40b1-c357-137d594dd8cf"
      },
      "execution_count": null,
      "outputs": [
        {
          "output_type": "stream",
          "name": "stdout",
          "text": [
            "['cID', 'TotalCharges', 'gender_Female', 'gender_Male', 'Partner_No', 'Partner_Yes', 'Dependents_No', 'Dependents_Yes', 'PhoneService_No', 'PhoneService_Yes', 'MultipleLines_No', 'MultipleLines_No phone service', 'MultipleLines_Yes', 'InternetService_DSL', 'InternetService_Fiber optic', 'InternetService_No', 'OnlineSecurity_No', 'OnlineSecurity_No internet service', 'OnlineSecurity_Yes', 'OnlineBackup_No', 'OnlineBackup_No internet service', 'OnlineBackup_Yes', 'DeviceProtection_No', 'DeviceProtection_No internet service', 'DeviceProtection_Yes', 'TechSupport_No', 'TechSupport_No internet service', 'TechSupport_Yes', 'TV_Streaming_No', 'TV_Streaming_No internet service', 'TV_Streaming_Yes', 'Movie_Streaming_No', 'Movie_Streaming_No internet service', 'Movie_Streaming_Yes', 'Contract_Month-to-month', 'Contract_One year', 'Contract_Two year', 'PaperlessBilling_No', 'PaperlessBilling_Yes', 'Method_Payment_Bank transfer (automatic)', 'Method_Payment_Credit card (automatic)', 'Method_Payment_Electronic check', 'Method_Payment_Mailed check']\n"
          ]
        }
      ]
    },
    {
      "cell_type": "code",
      "source": [
        "# Build the model\n",
        "model = Sequential()\n",
        "model.add(Dense(64, input_dim=X_train.shape[1], activation='relu'))\n",
        "model.add(Dropout(0.5))\n",
        "model.add(Dense(32, activation='relu'))\n",
        "model.add(Dropout(0.5))\n",
        "model.add(Dense(1, activation='sigmoid'))\n",
        "\n",
        "# Compile the model\n",
        "model.compile(optimizer='adam', loss='binary_crossentropy', metrics=['accuracy'])\n",
        "\n",
        "# Train the model\n",
        "history = model.fit(X_train, y_train, epochs=50, batch_size=32, validation_split=0.2)"
      ],
      "metadata": {
        "colab": {
          "base_uri": "https://localhost:8080/"
        },
        "id": "h9X45SpZgjf0",
        "outputId": "e435edd0-9eea-4676-d58d-aef4f38cc49e"
      },
      "execution_count": null,
      "outputs": [
        {
          "output_type": "stream",
          "name": "stdout",
          "text": [
            "Epoch 1/50\n",
            "166/166 [==============================] - 1s 2ms/step - loss: nan - accuracy: 0.5119 - val_loss: nan - val_accuracy: 0.4849\n",
            "Epoch 2/50\n",
            "166/166 [==============================] - 0s 2ms/step - loss: nan - accuracy: 0.5034 - val_loss: nan - val_accuracy: 0.4849\n",
            "Epoch 3/50\n",
            "166/166 [==============================] - 0s 2ms/step - loss: nan - accuracy: 0.5034 - val_loss: nan - val_accuracy: 0.4849\n",
            "Epoch 4/50\n",
            "166/166 [==============================] - 0s 2ms/step - loss: nan - accuracy: 0.5034 - val_loss: nan - val_accuracy: 0.4849\n",
            "Epoch 5/50\n",
            "166/166 [==============================] - 0s 2ms/step - loss: nan - accuracy: 0.5034 - val_loss: nan - val_accuracy: 0.4849\n",
            "Epoch 6/50\n",
            "166/166 [==============================] - 0s 2ms/step - loss: nan - accuracy: 0.5034 - val_loss: nan - val_accuracy: 0.4849\n",
            "Epoch 7/50\n",
            "166/166 [==============================] - 0s 2ms/step - loss: nan - accuracy: 0.5034 - val_loss: nan - val_accuracy: 0.4849\n",
            "Epoch 8/50\n",
            "166/166 [==============================] - 0s 2ms/step - loss: nan - accuracy: 0.5034 - val_loss: nan - val_accuracy: 0.4849\n",
            "Epoch 9/50\n",
            "166/166 [==============================] - 0s 2ms/step - loss: nan - accuracy: 0.5034 - val_loss: nan - val_accuracy: 0.4849\n",
            "Epoch 10/50\n",
            "166/166 [==============================] - 0s 2ms/step - loss: nan - accuracy: 0.5034 - val_loss: nan - val_accuracy: 0.4849\n",
            "Epoch 11/50\n",
            "166/166 [==============================] - 0s 2ms/step - loss: nan - accuracy: 0.5034 - val_loss: nan - val_accuracy: 0.4849\n",
            "Epoch 12/50\n",
            "166/166 [==============================] - 0s 2ms/step - loss: nan - accuracy: 0.5034 - val_loss: nan - val_accuracy: 0.4849\n",
            "Epoch 13/50\n",
            "166/166 [==============================] - 0s 2ms/step - loss: nan - accuracy: 0.5034 - val_loss: nan - val_accuracy: 0.4849\n",
            "Epoch 14/50\n",
            "166/166 [==============================] - 0s 2ms/step - loss: nan - accuracy: 0.5034 - val_loss: nan - val_accuracy: 0.4849\n",
            "Epoch 15/50\n",
            "166/166 [==============================] - 0s 2ms/step - loss: nan - accuracy: 0.5034 - val_loss: nan - val_accuracy: 0.4849\n",
            "Epoch 16/50\n",
            "166/166 [==============================] - 0s 2ms/step - loss: nan - accuracy: 0.5034 - val_loss: nan - val_accuracy: 0.4849\n",
            "Epoch 17/50\n",
            "166/166 [==============================] - 0s 2ms/step - loss: nan - accuracy: 0.5034 - val_loss: nan - val_accuracy: 0.4849\n",
            "Epoch 18/50\n",
            "166/166 [==============================] - 0s 2ms/step - loss: nan - accuracy: 0.5034 - val_loss: nan - val_accuracy: 0.4849\n",
            "Epoch 19/50\n",
            "166/166 [==============================] - 0s 2ms/step - loss: nan - accuracy: 0.5034 - val_loss: nan - val_accuracy: 0.4849\n",
            "Epoch 20/50\n",
            "166/166 [==============================] - 0s 1ms/step - loss: nan - accuracy: 0.5034 - val_loss: nan - val_accuracy: 0.4849\n",
            "Epoch 21/50\n",
            "166/166 [==============================] - 0s 2ms/step - loss: nan - accuracy: 0.5034 - val_loss: nan - val_accuracy: 0.4849\n",
            "Epoch 22/50\n",
            "166/166 [==============================] - 0s 2ms/step - loss: nan - accuracy: 0.5034 - val_loss: nan - val_accuracy: 0.4849\n",
            "Epoch 23/50\n",
            "166/166 [==============================] - 0s 2ms/step - loss: nan - accuracy: 0.5034 - val_loss: nan - val_accuracy: 0.4849\n",
            "Epoch 24/50\n",
            "166/166 [==============================] - 0s 2ms/step - loss: nan - accuracy: 0.5034 - val_loss: nan - val_accuracy: 0.4849\n",
            "Epoch 25/50\n",
            "166/166 [==============================] - 0s 2ms/step - loss: nan - accuracy: 0.5034 - val_loss: nan - val_accuracy: 0.4849\n",
            "Epoch 26/50\n",
            "166/166 [==============================] - 0s 2ms/step - loss: nan - accuracy: 0.5034 - val_loss: nan - val_accuracy: 0.4849\n",
            "Epoch 27/50\n",
            "166/166 [==============================] - 0s 1ms/step - loss: nan - accuracy: 0.5034 - val_loss: nan - val_accuracy: 0.4849\n",
            "Epoch 28/50\n",
            "166/166 [==============================] - 0s 2ms/step - loss: nan - accuracy: 0.5034 - val_loss: nan - val_accuracy: 0.4849\n",
            "Epoch 29/50\n",
            "166/166 [==============================] - 0s 2ms/step - loss: nan - accuracy: 0.5034 - val_loss: nan - val_accuracy: 0.4849\n",
            "Epoch 30/50\n",
            "166/166 [==============================] - 0s 2ms/step - loss: nan - accuracy: 0.5034 - val_loss: nan - val_accuracy: 0.4849\n",
            "Epoch 31/50\n",
            "166/166 [==============================] - 0s 2ms/step - loss: nan - accuracy: 0.5034 - val_loss: nan - val_accuracy: 0.4849\n",
            "Epoch 32/50\n",
            "166/166 [==============================] - 0s 2ms/step - loss: nan - accuracy: 0.5034 - val_loss: nan - val_accuracy: 0.4849\n",
            "Epoch 33/50\n",
            "166/166 [==============================] - 0s 2ms/step - loss: nan - accuracy: 0.5034 - val_loss: nan - val_accuracy: 0.4849\n",
            "Epoch 34/50\n",
            "166/166 [==============================] - 0s 2ms/step - loss: nan - accuracy: 0.5034 - val_loss: nan - val_accuracy: 0.4849\n",
            "Epoch 35/50\n",
            "166/166 [==============================] - 0s 2ms/step - loss: nan - accuracy: 0.5034 - val_loss: nan - val_accuracy: 0.4849\n",
            "Epoch 36/50\n",
            "166/166 [==============================] - 0s 2ms/step - loss: nan - accuracy: 0.5034 - val_loss: nan - val_accuracy: 0.4849\n",
            "Epoch 37/50\n",
            "166/166 [==============================] - 0s 2ms/step - loss: nan - accuracy: 0.5034 - val_loss: nan - val_accuracy: 0.4849\n",
            "Epoch 38/50\n",
            "166/166 [==============================] - 0s 2ms/step - loss: nan - accuracy: 0.5034 - val_loss: nan - val_accuracy: 0.4849\n",
            "Epoch 39/50\n",
            "166/166 [==============================] - 0s 2ms/step - loss: nan - accuracy: 0.5034 - val_loss: nan - val_accuracy: 0.4849\n",
            "Epoch 40/50\n",
            "166/166 [==============================] - 0s 2ms/step - loss: nan - accuracy: 0.5034 - val_loss: nan - val_accuracy: 0.4849\n",
            "Epoch 41/50\n",
            "166/166 [==============================] - 0s 2ms/step - loss: nan - accuracy: 0.5034 - val_loss: nan - val_accuracy: 0.4849\n",
            "Epoch 42/50\n",
            "166/166 [==============================] - 0s 2ms/step - loss: nan - accuracy: 0.5034 - val_loss: nan - val_accuracy: 0.4849\n",
            "Epoch 43/50\n",
            "166/166 [==============================] - 0s 1ms/step - loss: nan - accuracy: 0.5034 - val_loss: nan - val_accuracy: 0.4849\n",
            "Epoch 44/50\n",
            "166/166 [==============================] - 0s 2ms/step - loss: nan - accuracy: 0.5034 - val_loss: nan - val_accuracy: 0.4849\n",
            "Epoch 45/50\n",
            "166/166 [==============================] - 0s 2ms/step - loss: nan - accuracy: 0.5034 - val_loss: nan - val_accuracy: 0.4849\n",
            "Epoch 46/50\n",
            "166/166 [==============================] - 0s 2ms/step - loss: nan - accuracy: 0.5034 - val_loss: nan - val_accuracy: 0.4849\n",
            "Epoch 47/50\n",
            "166/166 [==============================] - 0s 2ms/step - loss: nan - accuracy: 0.5034 - val_loss: nan - val_accuracy: 0.4849\n",
            "Epoch 48/50\n",
            "166/166 [==============================] - 0s 2ms/step - loss: nan - accuracy: 0.5034 - val_loss: nan - val_accuracy: 0.4849\n",
            "Epoch 49/50\n",
            "166/166 [==============================] - 0s 2ms/step - loss: nan - accuracy: 0.5034 - val_loss: nan - val_accuracy: 0.4849\n",
            "Epoch 50/50\n",
            "166/166 [==============================] - 0s 2ms/step - loss: nan - accuracy: 0.5034 - val_loss: nan - val_accuracy: 0.4849\n"
          ]
        }
      ]
    },
    {
      "cell_type": "code",
      "source": [
        "from sklearn.metrics import accuracy_score, f1_score\n",
        "\n",
        "# Make predictions on the testing data\n",
        "# Assuming X_test is the input data\n",
        "X_test_tensor = tf.convert_to_tensor(X_test, dtype=tf.float32)  # Convert to TensorFlow tensor\n",
        "\n",
        "# Use the converted tensor for prediction\n",
        "y_pred_probs = model.predict(X_test_tensor) # Get predicted probabilities for each class\n",
        "y_pred_classes = y_pred_probs.argmax(axis=-1)  # Convert probabilities to predicted classes\n",
        "\n",
        "# Assuming y_true and y_pred_classes are the actual and predicted labels, respectively\n",
        "accuracy = accuracy_score(y_test, y_pred_classes)\n",
        "f1 = f1_score(y_test, y_pred_classes)\n",
        "\n",
        "print(\"Accuracy:\", accuracy)\n",
        "print(\"F1 Score:\", f1)"
      ],
      "metadata": {
        "colab": {
          "base_uri": "https://localhost:8080/"
        },
        "id": "HFeS8j6XiI5V",
        "outputId": "b831f5b9-4619-4665-9ef1-15589a60df5c"
      },
      "execution_count": null,
      "outputs": [
        {
          "output_type": "stream",
          "name": "stdout",
          "text": [
            "52/52 [==============================] - 0s 860us/step\n",
            "Accuracy: 0.501207729468599\n",
            "F1 Score: 0.0\n"
          ]
        }
      ]
    },
    {
      "cell_type": "code",
      "source": [
        "## Convert categorical columns to dummy variables\n",
        "# df = pd.get_dummies(df, columns=['', 'category_column2'])\n",
        "\n",
        "## Create new features if necessary\n",
        "# df['total_usage'] = df['voice_usage'] + df['data_usage']\n"
      ],
      "metadata": {
        "id": "FmdeQVxCkCmx"
      },
      "execution_count": null,
      "outputs": []
    },
    {
      "cell_type": "code",
      "source": [
        "import matplotlib.pyplot as plt\n",
        "\n",
        "# Set up the figure and subplots\n",
        "fig, axes = plt.subplots(1, 2, figsize=(12, 4))\n",
        "\n",
        "# Plot accuracy over epochs for training and validation sets\n",
        "axes[0].plot(history.history['accuracy'], label='Training Accuracy')\n",
        "axes[0].plot(history.history['val_accuracy'], label='Validation Accuracy')\n",
        "axes[0].set_title('Accuracy Over Epochs')\n",
        "axes[0].set_xlabel('Epoch')\n",
        "axes[0].set_ylabel('Accuracy')\n",
        "axes[0].legend(loc='upper left')\n",
        "\n",
        "# Plot loss over epochs for training and validation sets\n",
        "axes[1].plot(history.history['loss'], label='Training Loss')\n",
        "axes[1].plot(history.history['val_loss'], label='Validation Loss')\n",
        "axes[1].set_title('Loss Over Epochs')\n",
        "axes[1].set_xlabel('Epoch')\n",
        "axes[1].set_ylabel('Loss')\n",
        "axes[1].legend(loc='upper left')\n",
        "\n",
        "# Display the plots\n",
        "plt.tight_layout()\n",
        "plt.show()\n"
      ],
      "metadata": {
        "colab": {
          "base_uri": "https://localhost:8080/",
          "height": 407
        },
        "id": "GOVAfCvem0zY",
        "outputId": "2a03cc22-beeb-44f2-b400-eb9362ba527a"
      },
      "execution_count": 15,
      "outputs": [
        {
          "output_type": "display_data",
          "data": {
            "text/plain": [
              "<Figure size 1200x400 with 2 Axes>"
            ],
            "image/png": "[encoded data removed]"
          },
          "metadata": {}
        }
      ]
    }
  ]
}