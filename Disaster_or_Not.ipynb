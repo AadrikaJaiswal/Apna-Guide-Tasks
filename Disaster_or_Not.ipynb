{
  "nbformat": 4,
  "nbformat_minor": 0,
  "metadata": {
    "colab": {
      "provenance": [],
      "authorship_tag": "ABX9TyPB+EC9eYjLJ0wXF1kuj0xn",
      "include_colab_link": true
    },
    "kernelspec": {
      "name": "python3",
      "display_name": "Python 3"
    },
    "language_info": {
      "name": "python"
    }
  },
  "cells": [
    {
      "cell_type": "markdown",
      "metadata": {
        "id": "view-in-github",
        "colab_type": "text"
      },
      "source": [
        "<a href=\"https://colab.research.google.com/github/AadrikaJaiswal/Apna-Guide-Tasks/blob/main/Disaster_or_Not.ipynb\" target=\"_parent\"><img src=\"https://colab.research.google.com/assets/colab-badge.svg\" alt=\"Open In Colab\"/></a>"
      ]
    },
    {
      "cell_type": "code",
      "execution_count": null,
      "metadata": {
        "colab": {
          "base_uri": "https://localhost:8080/"
        },
        "id": "qb0GQCB9dDYv",
        "outputId": "05885393-4362-4ae7-c74d-3d7cd1964f83"
      },
      "outputs": [
        {
          "output_type": "stream",
          "name": "stdout",
          "text": [
            "Requirement already satisfied: nltk in /usr/local/lib/python3.10/dist-packages (3.8.1)\n",
            "Requirement already satisfied: click in /usr/local/lib/python3.10/dist-packages (from nltk) (8.1.7)\n",
            "Requirement already satisfied: joblib in /usr/local/lib/python3.10/dist-packages (from nltk) (1.4.2)\n",
            "Requirement already satisfied: regex>=2021.8.3 in /usr/local/lib/python3.10/dist-packages (from nltk) (2024.5.15)\n",
            "Requirement already satisfied: tqdm in /usr/local/lib/python3.10/dist-packages (from nltk) (4.66.4)\n"
          ]
        }
      ],
      "source": [
        "pip install nltk"
      ]
    },
    {
      "cell_type": "code",
      "source": [
        "import pandas as pd\n",
        "import numpy as np\n",
        "from sklearn.model_selection import train_test_split\n",
        "from sklearn.feature_extraction.text import TfidfVectorizer\n",
        "from sklearn.preprocessing import LabelEncoder\n",
        "from sklearn.ensemble import RandomForestClassifier\n",
        "from sklearn.metrics import classification_report, accuracy_score\n",
        "import re\n",
        "import nltk\n",
        "from nltk.corpus import stopwords\n",
        "\n",
        "# Download NLTK stopwords\n",
        "nltk.download('stopwords')\n",
        "\n",
        "# Load the datasets\n",
        "train_data = pd.read_csv('/content/train.csv')\n",
        "test_data = pd.read_csv('/content/test.csv')\n",
        "\n",
        "# Function to clean text data\n",
        "def preprocess_text(text):\n",
        "    text = re.sub(r'http\\S+', '', text)  # Remove URLs\n",
        "    text = re.sub(r'[^a-zA-Z\\s]', '', text)  # Remove non-alphabet characters\n",
        "    text = text.lower()  # Convert to lowercase\n",
        "    text = ' '.join(word for word in text.split() if word not in stopwords.words('english'))  # Remove stopwords\n",
        "    return text\n",
        "\n",
        "# Apply text preprocessing\n",
        "train_data['tweet'] = train_data['tweet'].apply(preprocess_text)\n",
        "test_data['tweet'] = test_data['tweet'].apply(preprocess_text)\n",
        "\n",
        "# Fill missing values with empty strings\n",
        "train_data.fillna('', inplace=True)\n",
        "test_data.fillna('', inplace=True)\n",
        "\n",
        "# Encode categorical features\n",
        "encoder = LabelEncoder()\n",
        "train_data['keyword'] = encoder.fit_transform(train_data['keyword'])\n",
        "test_data['keyword'] = encoder.transform(test_data['keyword'])\n",
        "train_data['place'] = encoder.fit_transform(train_data['place'])\n",
        "\n",
        "# Handle unseen labels in test data for 'place'\n",
        "unseen_labels = set(test_data['place']) - set(encoder.classes_)\n",
        "if unseen_labels:\n",
        "    print(f\"Unseen labels found in test data: {unseen_labels}\")\n",
        "    # Replace unseen labels with a default value\n",
        "    test_data['place'] = test_data['place'].apply(lambda x: \"Unknown\" if x in unseen_labels else x)\n",
        "\n",
        "# Encode 'place' feature in the test data\n",
        "test_data['place'] = encoder.transform(test_data['place'])\n",
        "\n",
        "# Vectorize the tweet text using TF-IDF\n",
        "vectorizer = TfidfVectorizer(max_features=5000)\n",
        "X_train_tfidf = vectorizer.fit_transform(train_data['tweet'])\n",
        "X_test_tfidf = vectorizer.transform(test_data['tweet'])\n",
        "\n",
        "# Combine TF-IDF features with 'keyword' and 'place' features\n",
        "X_train = np.hstack((X_train_tfidf.toarray(), train_data[['keyword', 'place']].values))\n",
        "X_test = np.hstack((X_test_tfidf.toarray(), test_data[['keyword', 'place']].values))\n",
        "y_train = train_data['disaster']\n",
        "\n",
        "# Split the training data into training and validation sets\n",
        "X_train, X_val, y_train, y_val = train_test_split(X_train, y_train, test_size=0.2, random_state=42)\n",
        "\n",
        "# Train the RandomForestClassifier model\n",
        "classifier = RandomForestClassifier(n_estimators=100, random_state=42)\n",
        "classifier.fit(X_train, y_train)\n",
        "\n",
        "# Validate the model\n",
        "y_val_pred = classifier.predict(X_val)\n",
        "print(\"Validation Accuracy:\", accuracy_score(y_val, y_val_pred))\n",
        "print(classification_report(y_val, y_val_pred))\n",
        "\n",
        "# Make predictions on the test data\n",
        "test_predictions = classifier.predict(X_test)\n",
        "\n",
        "# Create the submission file\n",
        "submission = pd.DataFrame({'id': test_data['id'], 'disaster': test_predictions})\n",
        "submission.to_csv('submission.csv', index=False)\n",
        "\n",
        "print(\"Submission file created: submission.csv\")\n"
      ],
      "metadata": {
        "colab": {
          "base_uri": "https://localhost:8080/"
        },
        "id": "JOeeM2X8dGo1",
        "outputId": "3b0c7a10-f4e5-450d-e554-72a1143e2eb5"
      },
      "execution_count": null,
      "outputs": [
        {
          "output_type": "stream",
          "name": "stderr",
          "text": [
            "[nltk_data] Downloading package stopwords to /root/nltk_data...\n",
            "[nltk_data]   Unzipping corpora/stopwords.zip.\n"
          ]
        },
        {
          "output_type": "stream",
          "name": "stdout",
          "text": [
            "Unseen labels found in test data: {'Redding ', 'Kentucky', 'Nigeria|| Lagos', 'started acc 1.9.15 2:25 pm', 'Coos Bay, OR', 'Nigeria,West African', 'patna', 'Somewhere in the Internet...', 'Time for NON VIOLENT dissent! ', 'SW London (RBK)', 'Paranaque City, National Capital Region', 'Hollywood, Ca', 'sam', 'Ohio land of no sun', 'Rochester NY', \"Ton's Ì¡ead town åÈ Tx\", 'L.A', 'US of Eh', 'Indian Trail, North Carolina', '???/??', 'Currently Somewhere On Earth', 'Elko, Nevada', 'Minneapolis St. Paul Minnesota', '$$$', 'Northern Scandinavia', '408 N. Western, Wenatchee, WA ', 'Dallas, Texas', 'Waterloo, Ontario, Canada', 'uchiha', 'Oregon & SW Washington', 'Barnsley', 'Panama City Beach, Florida', 'trashcan somewhere in hell', 'Hustle Flow Nation', 'trust none..', '?? | pittsburgh ', 'Unauthentically British UK', 'The Woodlands, TX', 'Hodesto, Cuntlifornia', 'Chattanooga, TN', 'Albequerque', 'Eugene, OR.', 'Kocaeli-Izmit', \"Maryland/Myrtle Beach CCU'19\", 'Paradise ', 'Southend-on-Sea, England', 'Homewood, PA', 'BHUBANESWAR', \"Niall's place | SAF 12 SQUAD |\", 'Bharat.', 'Delta, Nigeria', 'Keeper of the TriForce ', 'Chiba,very close to Tokyo.', 'University of Maryland', 'Dallas', '???\\x89Û¢???\\x89Û¢s??\\x89Û¢????\\x89Û¢????????s', 'MS', 'Northwest Arkansas', 'Beal Feirste Northern Ireland', 'Fallen TX', 'istanbul', 'Ex Astris Scientia. TSSADID.', 'Plymouth', 'Portland, Oregon, USA', 'San Luis Obispo, California', 'The best side of middlesbrough', 'Cedar City, Utah', 'stars/pens/caps/hawks', '@KEYTNC3 @KCOY', ' Elizabeth, NJ', 'norton ', '65 Skelmersdale Lane', 'Whitley Bay, England', 'Outworld', 'Williamsport, PA', 'Hollywood, California', 'jonas/lovato/bieber/5sos', 'Palacio, Madrid', 'Lufkin.Texas,USA', 'Kyiv (Kiev), Ukraine (????, ????, ???????)', 'Cape Coral, FL USA', 'Dili. East Timor', 'FL/NJ', 'ham ham clubhouse', 'Brantford, Ontario', 'Burnley, Lancashire', 'kyiv. ukraine', 'Santos, SÌ£o Paulo', 'LND Greatest City In the World', '336', 'Mechanicsville, VA', 'Lansing, MI USA', 'teen top ? jongsuk ? exo ? bts', 'East la Mirada, CA', 'Scout Team ', 'North Vernon, IN', 'cyberspace', 'Kalispell, Montana', 'Bolton, England', 'Highlands Ranch CO', '#NAME?', 'england', '   Manchester/Nantwich', 'Rexburg ID', 'AUSTRALIA', 'Netherverse', 'St Albans', 'centre of attention', 'Roermond', 'Rice Lake, WI/Toronto, ON', 'earth', 'That London', 'South Park  ??????????????????', 'University of Alabama', 'USA - Global Online Sales ', 'Las Baegas', 'The Forbidden Forest', 'Concord, North Carolina', '55 Wall Street', 'Logansport, Indiana', 'baltimore ', 'HEAVEN', 'Niels Groeneveld / RedSocks', 'Syracuse, NY', '1937 Germany ', '#Global', 'Lithgow, NSW, Australia', 'St. Charles MO', 'Free and democratic Britain', 'the beautiful Northwest (USA)', 'Stgo, Chile', 'Iowa', 'Dreamville | Hoolagan', 'SIUC | 618', 'Canberra (mostly)', 'Jon Bellion | Luke Christopher', 'The Open road!', 'All Motorways, UK', 'East Coast ', 'Brentwood uk', 'ID where potatoes grow', 'Swansea', 'In my baby with pie', 'Crawley, England', ' ', 'probably in hell ', 'Eastbourne East Sussex ', 'Northampton', 'ShloMotion', 'Niger State', 'Lake Hefner Bike Trail', 'CLT via NOLA via MO via MN', 'Auckland NZ', 'Monroe,LA', 'Leeds ', 'North Korea', \"ZIKKO'S HQ\", 'Arlington', '??????????? :P', 'Yorkshire and London', 'united states', 'Capitol Hill, Washington', '32935', 'Out and about ', 'Botswana Gaborone', 'Montreal,QC', 'YYC', 'cucumber squad | she/her | ', 'USA,Washington,Seattle', ';)', '?x??p = ?/2', 'Denver|Boulder|Ft. Collins, CO', 'leicester', 'Lucknow', 'Richmond, VA, USA', 'philadelphia, pa', 'Mississauga', 'moon ', 'probably bargos', 'Kampala, Uganda', 'Queens', 'Sales Specialist~ Worldwide  ', \"In ma daddy nd mummy's. Hart..\", 'D.C.', 'Beaumont, Texas', ' Stah-koomi-tapii-akii', 'Sporting capital of the World', 'Pridelands, IN', 'Eugene, OR', 'Bobba Island ', 'our galaxy', 'Lake Charles, LA', 'Denver, Co', 'Florence, SC', 'Playing: HL2: EP1, Dust: AET', 'Still on my laptop', 'Upper St. Clair', 'Springfield, MO', 'dam squad 4 lyf', 'Rochester Minnesota', 'who fuckin knows', 'Dark Night. ???? ??', '#BVSTRONG', 'Winchester, UK', 'Newburgh, NY', 'Interwebs', 'Rowlett, TX', 'Inwood ontario', 'Kill Devil Hills', 'No', 'burger king with usher', 'kolkata', 'Michigander, USA', 'someplace safe', ' way way way up ??', 'qui tacet consentire videtur', 'tacompton, washington ', 'Ottawa', '|Elsmere| Wilmington, DE.', 'Columbus, Ohio', 'Halifax, Nova Scotia, Canada', '9.25.14?8.5.15?10.6.15 | gen?', 'In Range ', 'Utica , New York (Upstate) ', 'SÌ©te, France, (foto c.1968)', 'South Africa Braamfontein', 'Woodbridge, VA ', 'Ittihad .f.c', 'Paonia, Colorado', '9 Benua Ltd.', 'Tri-State', 'Carthage, OH', 'Jacksonville, Florida', 'West Coast, Canada', '             Waiheke Island', 'Citizen of the World', 'West Palm Beach, FL', \"Ellixton London's 33rd Borough\", 'Death City, Nevada', 'Ecruteak City, Johto', 'UK.', 'Ohio...yep we said it.', 'Jefferson, GA', 'West Michigan', 'Hannover', 'Edwardsville, IL', 'England UK', 'Fantasy Land', 'Tucson, Arizona', 'Hudson Valley,NY', 'IRELAND ', 'Kaneville', 'Brinscall, England', 'bestatriz \\x89Û¢29/4 \\x89Û¢ #askdemigod ', 'Derbyshire', 'Indianapolis', 'The New Way To Surf!', 'Lawrence, MA', 'Over the Hills and Far Away', 'Amos,Quebec,Canada', 'å©hicago', 'Mansfield, Ohio', 'Stone Ridge, VA', 'chillin', 'North Druid Hills, GA', 'Dublin,Ireland', 'Nanda Parbat', 'Batam', 'Worldwalking', 'A glass case of emotions', 'Rapid City & The Black Hills', 'http://wingssilverwork.com', 'Irvine, CA', 'Golden British Columbia Canada', 'INEQUITY  IS  INJUSTICE || NJ', 'Windsor ??CT ', 'SDF-1 Macross S. Ataria Island', 'Saint John, N.B, Canada ', 'born on september 1st', 'TÌÁchira, Venezuela', '557619', 'Sunderland/The Saaf', 'Port Townsend, WA', ' Aomori', 'Louisiana the real La', 'bang bang bang', 'San Antonio', 'Fort Worth, TX', 'w/ @_ridabot, probably', 'Atlanta, GA (kind of)', 'My World', 'Oro Valley, AZ', 'almonds', 'Sherman ave South Bronx #STF', 'Kruibeke, BelgiÌÇ', 'ÌÏT: 7.384559,3.8793718', 'U.A.E.', 'Egypt', 'Instagram:marissatunis', 'Honeymoon Tour 03.26.15?', 'Detroit, Mi', '62', 'Sussex, UK', 'Wickford', 'Worcester', 'Bedford Stuyvesant, Brooklyn', 'Nashville, Music City, USA', 'usa', 'Home is wherever I am ', 'Tokyo JAPAN', '#Bitcoinland', 'Frankfurt, Germany', 'Lakeland Fl', '| INDIA |', 'a pool of my own tears', 'Detroit, MI ', 'House of El', 'Staten Island, NY', 'pa', 'Muscat', 'Northwest', 'Fredericton, NB', 'Tinley Park, IL', 'Phoenix, AZ ', 'Seoul, Republic of Korea', 'St. Catherine, Jamaica, W.I.', 'Emirate', 'Somewhere on the Earth', 'Surrey, BC', 'VH1 Soul in a BET World ', 'Vienna, Austria, Europe', 'Wellington City, New Zealand', 'Baroda', 'she/her? \\x89Û¢ tr \\x89Û¢ jordan', 'Long Island, New York', 'Kibworth Beauchamp, England', 'NYC ?? PA', 'Tweets by David ', 'Moncton, NB', 'Okinawa', 'Cary, North Carolina', 'SP - Brasil #1', '????? ?? ?????? -????? ????', 'Swat Pakistan', 'Gauteng Heidelberg,Ratanda', 'Texas Hill Country', 'Free Palestine | Save Gaza', 'Springfield Tn', 'Bath, England', 'Twin Cities, MN', 'Tulsa', 'SÌ£o Vicente, SÌ£o Paulo', 'Washington, DC and on planes', 'South East Asia', 'Staffordshire', 'Franklinton - BR - Houston', \"N 51å¡25' 0'' / W 0å¡45' 0''\", 'VI~D[M]V', 'PPCC ', 'West Virginia ', 'Harlem', 'Salt Lake City', 'Washington D.C. / Istanbul', ' Kaijo High School', 'NoPa, San Francisco', 'Oh.', 'Downtown New York', 'Seek for LIGHT today!!!', 'palm spraangs', 'ÌÏT: 41.106046,-80.657836', 'Connecticut, USA', 'War Drobe, Spare Oom', 'British Columbia', 'Duel Academia', '3rd terrestrial planet, Sun', 'Lakerland', 'Lansing ?? Ypsilanti ', 'edmonton', 'yakima, wa', 'Florence, South Carolina', 'my USA, åµ???? ?aÌÙ? ', 'Lagos, Nigeria.', 'California Central Valley', 'Limerick, Ireland.', 'Midland, Mi', 'Hagerstown, MD 21742', 'New Bedford, MA', 'K-Town ', 'IL?MI', 'The Dalles, Oregon', 'Aragua', 'Swaggdad, Irock', 'West Monroe, Louisiana', 'Fargo, ND', 'Sandbach Cheshire UK ', 'would rather be in my room', 'Kent, United Kingdom', 'west coast ', 'Jeddah, Makkah Al Mukarrama', 'ocsf', 'AZ ? TX ? CA ? IL ?', 'land-where-everything-sucks', 'Behavioral Analysis Unit (BAU)', 'salem ma', 'Edmonton', 'Northeast United States ', 'Broward, Miami, Tally', 'Plymouth, England', 'Hounslow, London', 'Bending the elements.', 'hyejeong?taehyung', 'Stone Mountain, GA', 'astral plane', 'foothills', 'North Coast of O-H-I-O', 'Nevada', 'with my music and air heads', 'Monaghan, Ireland', 'In outer space', 'Punjab, Pakistan', 'ÌÏT: 35.353272,-78.553744', 'NYC, ??, VAN', 'West Hampstead, London NW6', 'NJ, Amerikkka', 'lake worth, Fl', 'Denver Colorado', 'Wellington, FL', 'Greece', 'Jaipur, Rajasthan', 'MNL, Philippines', 'Davis', 'Sherbrooke & MontrÌ©al', 'daily ? 18 ? ?', 'EVERYWHERE, USA', 'Oman ', 'Alexander, Iowa', 'FL', 'Diantara Temlen Laksani', 'bishop amat', 'New york', '#IzzoWorld', 'On The Island: Nassau, Bahamas', 'Quezon, Philippines', 'Salem, Oregon', 'it was yesterday :(', 'HYPE RESSHA HYPE RESSHA', 'Qwuank', 'seattle', 'Italia', 'Ottawa, ON, Canada', 'Cambridge ', 'Harvard Square, Cambridge, MA', '/ Kattappana, Kerala ', 'The Three Broomsticks ', 'Boulder via DC', 'faisalabad', 'San Antone', 'Carlow, Ireland', 'Curitiba-PR', 'Summerside', '22714 Ventura Blvd. WHills, CA', 'Lampe, MO', 'Bentonville, Arkansas', 'baltimore maryland', 'Loreto College, Mullingar', 'Merseyside', 'portsmouth ', 'IG: xbougiebri', 'VA', 'Spring Lake Park, MN', 'FRM JERZ LIVING IN DADE COUNTY', 'MDS af ?', 'Queens, New York', 'Jammu Kashmir ', 'Ponyville,Equestria ', 'Morganton GA', 'Goldsboro, NC', 'Edmonton Alberta Canada', 'Mtl', 'Stuck In Traffic', 'Greater Vancouver, British Columbia', 'Saint-Petersburg', 'Indianapolis, Indiana', 'Runcorn', 'Shangri-La', 'mombasa', 'Pittsburgh, PA', 'Red Deer, Alberta, Canada', 'Strathmore, California', 'Ventura County', 'Fredericksburg, VA', 'Gap', 'Bieber Fever UK', 'Sunny Southern California', 'U.S.A. ', 'Greenville, SC', 'Wayne, NJ', 'globetrotter', 'Rhode Island, USA', 'Anime World', 'Namma Bengaluru', '1996???????????', 'Please follow and RT! :)', 'Yemen', 'ig: j.nessaa', 'Rome', 'YouTube Channel', 'Grand Rapids, MI', 'Philippines :)', 'real world', 'Almost there ', 'scarborough, ontario', 'Turin', 'www.dorsavi.com', 'Haifa, Israel', 'Shrewsbury, England', 'Metro, Lampung ~ Balikpapan', 'St. Louie', 'Rahway, NJ', 'Long Beach, Dublin, Amsterdam', 'Carrboro, NC', 'Mainer missing Guatemala', 'Nor Cal', 'London / Herts', 'RELEASE THE REIS  ', 'Bay Area, California ', 'Tokio / Tokyo', '  ?becky?chloe?', 'Sheffield.?', 'The Court of Public Opinion.', 'mn |7-18-13|8-27-14|7-26-15|', 'Polska', 'Udaipur', '#ViewsAreMyOwn #IBackTheBlue', 'LanÌ¼s', 'Bangkok, Thailand.', 'Planet Earth (mainly) #Neuland', 'nipple squad makes me happy', \"At Grandmother Willow's\", 'Poyth WesssterrrnnOystrayahhh', 'manchester, UK', 'Mystic Falls', 'Georgetown,Guyana', 'Salem, MA', 'High Desert', 'Glendale, AZ', 'SweizyLand', 'Bangalore,India', 'Hawkes Bay, New Zealand', 'Waraq', 'Metro Detroit', 'Arlington\\n', 'bucky barnes hell', 'Milan, Italy', 'San Gabriel Valley, CA', 'Baker, Louisiana', 'Orlando, FL ', 'EspaÌ±a/Catalunya/Girona', 'ny || ga', 'SantibaÌ±ez de Vidriales ZAMORA', 'Isle of Patmos', 'Perth, Scotland', 'CANADA ', 'Sydney - Australia', 'Brooklyn, NY and Norfolk, Va', 'shanghai', 'Comox Valley Courtenay, BC  ', 'United States, Ohio', '#ALLblacklivesmatter', 'XIX | 5SOS | Ed Sheeran |', 'West Baltimore ', 'atl, ga', 'St. Petersburg. Fla.', 'Calabasas, CA', 'Wherever the music takes me ', 'Budgam kashmir', '                           FLA', 'OHIO', 'somewhere over the rainbow', '#TeamHKNgang ', 'eileenborut,webster, tx', 'Windsor ON Canada', 'Vineland, NJ, USA', 'Central Jersey', 'Blog', 'Land of the Free', 'Beijing,China', 'sending rude things to heather', 'Toledo, OH ', 'Mumbai, India.', 'Nr Great Missenden, Bucks', 'South East Florida', 'Narbin city  ', 'City of Bacoor, CALABARZON PHL', 'Doo Doo Boy Island', 'Sheeps Clothing', 'crying', 'Seraphim Vault, Cosmodrone', 'District of Columbia, USA', 'in your dreams', 'sad', 'Quezon City', 'Miami - Support NAVY #SEALS ', 'Montana Misery', 'boca raton', '~always in motion~', 'charlotte, nc', 'Fano (Italy)', 'House of the Rising Sun', '#RoshanPakistan', 'fairly local', '35% gay. 65% water. ', 'YesNaija.com', 'Canton Ohio', 'University of Oklahoma', 'Camberville (Bostonish)', 'FEMA REGION 2', 'Vault 101, Fallout', 'South of Boston', 'Toronto  #6ixSideMafia', 'isabel beatriz paras de leon', 'Astoria, NY', 'Acey mountain islanddåÇTorontoåÈ', 'Santa Cruz ', 'Kurdistan ', 'Enemy of the state ', 'Keffi', 'Twin Falls, Idaho, 83301', 'magodo', 'Portugal-Spain-Indonesia', 'Whoop Ass, Georgia', 'Gornal - England', 'Saginaw, Mich.', 'Brisbane, Australia', 'Deerfield Beach Florida', 'KATONG PLAZA #02-10', 'Herbville', '6/24/12 7/21/13 8/22/14 7/17/15', 'Sittwe', 'Pico Rivera, CA', 'Amsterdam, Worldwide', 'Hubli, Karnataka', 'GroÌÙdeutsches Reich', 'Wandering', 'lbtidronegirlshell ', 'Bengaluru, India', 'Texas, Forever ', 'Los Angeles/ Las Vegas/ Boston', 'Los Angeles, CA 90045', 'DC Metro Area', 'New Orleans', 'St. Catharines', 'kentucky', 'toronto \\x89Û¢ unicorn island ', 'Bideford, England', 'Dublin ', 'Minnesota', 'Austin,Tx', 'Capital Federal, Argentina', 'Jabalpur', 'HUSTON TEXAS 1-844-360-WISE', 'Saint Petersburg, FL', 'Nj ?? Az ', 'Do Not Follow Me, Am I a Bot.', 'Dunedin, New Zealand', 'Chillicothe, OH', 'Journey ', 'Berkeley, CA 94703, USA ? ', 'Lahore, Pakistan', 'Edinburgh/ West Yorkshire', '?orth, SG. ', 'wolverhampton, low hill', 'Algonquin, IL', 'DC & MoCo', 'Shanatic/GGian/SRKian', 'Searching for Rivendell', 'Quezon City, National Capital Region', 'Quezon City, PHILIPPINES', '2014.02.14~ing', 'Mii Facebook', 'Central #Ohio', 'Pedophilia', 'Muskegon, MI', 'Kano', 'Chicagoland and the world!', '28.709672,-97.376514', 'Vancouver ', 'between here and there', 'Manchester,England', 'garbage disposal bc im trash', 'Berisso, Argentina', 'Modesto, CA', 'Sunny Florida', 'arizona', 'Wheeler,Wis.', 'NYC/LI/NJ/LHV', 'downriver.', 'lagos', 'Monroe, OH', 'Garland, Texas', 'Between Manchester and Lille.', 'Manhattan, New York', 'The Interwebs!', 'Cardiff/London/NYC/Warwick', 'www.facebook.com/Randirobics', 'Modishthaan', 'Dirty Bay, CA', 'Bowling Green, Ky', 'Bikini Bottom', 'Boca Raton, FL', 'Washington DC, an airport ', 'Richmond, VA & Bristow, VA', 'Southern Cali', 'That place', 'Wakefield, England', 'Cowtown, Caliii !!', 'inland empire ca', 'West Midlands, England', 'BurBank, CA', 'Morgantown, WV', 'UK & Oversees', 'Berkeley, CA', \"East Carolina University'19 ??\", '?illinois?', 'Wales Cymru', 'Virginia Beach, VA USA', \"Wouldn't u like to know\", 'Free Hanseatic City of Bremen, Germany', 'Earthrealm', 'Blue Nation Naija', 'finland ', 'Harare', '130515 \\x89Û¢ Gallavich.', 'Prague, CZ, the Planet of Fans', 'ICO Arkansas', 'MIA', '(queer, trans, he/him, black)', 'Dublin, Ireland. ', 'The Real World', 'lagos , Usa', 'Reaching for the stars ', 'San Francisco, Los Angeles', 'Salem, OR', 'Washington, DC area', 'North Tonawanda, NY', 'Denver,CO USA', 'bristol ', 'All Round The World', 'Trujillo, Peru', 'East Texas', 'Back of the beyond, Lesotho', 'Highway to Hell', 'Bridgetown, Barbados', '#Capulets #5SOSfam #5quadfam ', 'Gurgaon', 'TO YOUR CHOSEN DESTINATION', 'Duo lane', 'Holland,MI', 'gateway regional hs', 'Down, down, baby...,SC.', 'Secane, PA', 'Fairbanks Alaska', 'rest easy angel @datboiiharri.', 'Revolutionary Road, USA', 'Chinade, Nigeria', 'Philadelphia; World War I', '10 hours from pluto', 'instagram- joeyparmenterr', 'Calgary ', 'Boston/NY/Montreal/London', 'Rhyming', 'Forest Grove, OR', 'Ì\\x81th Cliath, Ìäire', 'LaPorte, IN', 'Thessaloniki, Greece', 'Conway, AR', 'North West', 'Last Legs, New Zealand', 'On The Net', 'Tampa Bay. Fire the cannons', 'NJ, USA', 'Texas, United States', 'Poughkeepsie, NY', 'Bodmin, Cornwall', 'Greater Boston Area', 'Under the rain...', 'Portland', '301|804', 'Ann Arbor, MI', 'argentina', 'PG', 'Babylon Up-On Hudson', 'MakoHaru Hell', 'North Bellmore, NY', 'For a healthier, happier YOU!', 'Townsville', 'Bloemfontein, Free State', 'Hutchinson, MN', \"Sky's The limit (B.I.G) ????\", 'Terre Haute', 'mullingar ireland', 'Sericita, Minas Gerais', 'SeattIe', 'State of Jefferson', 'Austin Texas, Ontario Canada', 'The Land of Pleasant Living', 'behind them oranges', '3/12 + Jake Miller', 'Columbia, MO', 'WARNING: I TWEET NSFW AND NSFL', 'Shellharbour, Wollongong', 'Los Angeles via Pittsburgh', 'Malta; Gozo', \"305 but I'm So St. Louis...\", '?arsehole squad?', 'Philippians 4:13', 'Love Reiss', 'Canada | #LUX', 'California most of the time', 'U.S.A.', 'Sunny South Africa', 'Bexhill', 'Cheltenham', 'Globally 1-844-360-WISE', 'Stamford, CT', 'Twitter', 'Northwest Jersey', 'Romans 1:16', 'they/them or she/her', 'Colorado, The Mile High City', 'Tampa FL', 'Try looking at the map?', 'Harlem New York', 'California USA', 'Milano', 'CLEVELAND', '#HDYNATION', '8.27.14 & 7.28.15', 'http://t.co/mOY6lmu', 'kansas USA', 'clearlake', 'Washington DC region', 'Nashville, Tenn.', 'My house probably', 'Mass.', '03-Jan', 'PNW', 'Guayaquil, Ecuador', 'Lagos,nigeria', 'In my head.....', ' Cairo', ' Birmingham.', 'N.Y.C', 'Banner Elk, NC', '#uniteblue', '? the Foothills of SC ?', 'south wales valleys', 'Temple, GA', 'jds ', 'Liverpool, England', 'Serving Oklahoma', '1/11 numberjacks squad', 'Metropolis, TX', \"sarah's dreads\", 'Reality Based World', '#Kashmir', 'madrid', 'London/Lagos', 'USA!', 'BogotÌÁ, Colombia', '(SoCal)', 'Andhra Pradesh, India', 'GO Bucks!', 'live from the low end', 'omaha neblastya', 'threeonefive. ', 'ÌÏT: 39.168519,-119.766123', 'psalms 27:1', 'Lawrence, KS', 'Central New Jersey', 'melbs 1/2 #rham', 'Huntington Beach, CA', 'UAE', 'hayling ', 'Cape Coral Fl', 'S.P.Brasil', 'Paddington, London', 'Lehigh Acres, FL', 'trinity nc', '770 to Benedict College ', 'Outer Rim', 'phx az', 'PrincetonAve', 'The Land of Make Believe', 'Accrington, Lancashire', 'OKC', 'somewhere in time', 'Head of the Family', 'New York City & Mpls/St. Paul', ' ? they/them ?', \"'schland\", '????????', '53.337853,-6.288693', 'Ur BaQ', 'Piscataway, NJ', 'Motown, WV', '?????????, ?????-?????????', 'El Cerrito, CA', 'HELL', 'Albany, Western Australia', 'ÌÏT: 50.953278,-113.978785', 'Islamabad Pakistan', 'Dalton', 'Utopia ', 'South Wairarapa/Wellington ', 'Colwyn Bay, Wales', 'Any town USA', 'Midland, MI', 'uncanny valley', 'BGSU', 'SHIBUYA TOKYO JAPAN', 'Pea Ridge, WV', 'Milan, Lombardy', 'Android Land', 'riverwest, milw ', 'Raleigh, North Carolina, USA', 'From Boston, for New England', 'the Great White North', 'From Harlem to Duke ! ', 'Vernal, Utah', 'BLF (MP)/ PTA (GP)/ PHB(LIMPS)', 'Las Vegas ', 'Brussels', 'West Powelton, Philadelphia', 'Stockport, Uk', 'Beacon Hills ~ The Glade', 'st. louis, missouri', '@ArgentinaLiars ?| willbradley', 'Republic of Harper ', 'somewhere or other', 'Wherever the #Sooners are', 'Everywhere.. ', 'Canaduh', 'Johnson County, Kansas', 'Grand Rapids, Mich.', 'San Jose State University ', 'San Diegohhjhhhhhghghpjg', \"Where e'er the mood takes me\", 'New Hampshire \\x89Û¢ WMUR ', 'Roseland', 'The North Coast', 'chi town        ', '?? Newport , RI ??', 'Parkway, CA', 'Sawangan 1, Central Java', 'Hiding in a cardboard box.', 'chapel hill, cary n.c.', 'In A Multi-Fandom', 'Northeast, Ohio', 'State College Pa', 'Rock Hill , SC ', 'Raleigh', 'Uganda l Africa l Worldwide. ', 'Tampa Bay', 'festac,Lagos,Nigeria', 'St Louis', 'Where is my mind?', 'darwins, au ', '#sundaunited', 'Hermiston, Oregon', 'Greer, SC', 'Sea of Green', 'Southeast Michigan (HOTH)', 'Calgary and USA', 'Antioch, CA', \"sam's town\", 'Fishkill, NY', 'Your Backyard', 'Covering the U.S.A.', 'tarn et garonne/lot et garonne', '36702 State Road 52, Dade City', 'ÌÏT: 58.193556,-5.334943', 'new jersey', 'Sudbury', 'Conover, NC', \"N 32å¡39' 0'' / W 97å¡16' 0''\", 'My Own Little Corner', 'Cincinnati', 'Manado,Sulawesi Utara', 'Ventura, CA', 'West Virginia', 'Desloge, Mo', 'Little Rock', 'Rocky Mountains Colorado', 'Superior, WI', 'Blackfield, England', 'Tuksa, OK', 'TAIZ - YEMEN', 'Istanbul, TÌ_rkiye', 'Piedmont, CA', 'Atrapada en el mundo.', '17 year old anti-theist.', 'Manisto Trap House ', 'quantico', 'Orange County, California ', 'Venice, Sweden', \"Don't stalk me- thanks\", 'Alexandria, VA ', 'Canada,Ontario', 'Hull ma', 'West Coast', 'venezuela', 'Seattle Washington', 'Kanto, Japan', 'Brooksville, Florida', 'Greenwich, London', 'Amman', 'Bucks', 'Lemon Grove, CA', 'GARRUS?', 'Georgia/Florida  ', 'Lawn, PA', 'DMZ, AZ', 'Eldora, IA', 'vine: woah stelena ', '626 - 702', 'bliss', '@kiarakardashhh | Fayetteville', 'Alberta, Canada', 'Pune', 'Nepal', 'Michigan ?? South Carolina', '424 N. FAIRFAX AVE. 90036', 'North Hollywood, CA. (SoCal)', 'Bedford', 'm a a l k ', 'Pretoria, South Africa', 'dancer - Peter Pan panto 2015 ', \"Your Girl's Pussy\", 'LastLevelPress.com', 'Louisville Kentucky', 'Karma ', 'Cali', 'Here, There & Everywhere..', 'Montana', 'Pasadena, TX', 'Fargo, ND | North of Normal ', 'These United States', 'Winston Salem NC', 'N.E.Ohio', '??????????', 'Valusia', 'Kurnool', 'beyond time and space', 'Ottawa Canada', 'Cardiff', 'Leanbox?', 'ON, Canada', 'Ankeny', 'Arlington VA (DC Area)', 'North East America', 'wherever Wolf Blitzer is', 'slytherin /', 'Toronto, Ontario, Canada', 'Toulouse Haute-Garonne France', 'Sunmy Melbourne, England', '#DCjacobin', 'Los Angeles, Califnordia', 'Rome, IT', 'Leeds, England, United Kingdom', 'Japan ', 'she/her ', 'IG: 94fijiwater', 'Wonderland', 'Deep in the heart of LibLand', 'Crescent Moon w/ Wook', 'Under Ya Skin', 'Gresham, OR', 'ID', 'she/her \\x89Û¢ 19 \\x89Û¢ poland', 'Windy City, Land of the Snakes', 'In erotic world ', 'Ngayogyakarta Hadiningrat ', 'Mobile, AL', 'Kansas ', 'North Devon, UK ', 'NWA & River Valley', 'Chicago, Illinois  ', 'Amsterdam NL or Greenwich USA', 'Pasadena, CA', 'HTX iNNeRvErSe', 'Sunshine Coast of BC', 'support all girls!', 'Cin City', 'Gislaved', 'Tampa, Florida', 'London. ', 'Brussels, Belgium', 'ÌÏT: 41.373061,-71.942237', 'Pune, Maharashtra India', 'Twitter.', 'Davis, CA', 'bkk', 'Moreno City - Buenos Aires', 'twitch.tv/dgn_esports', 'St.Louis', 'Virginia (USA)', 'ITUNES RADIO [Hiphop/Rap]', 'Johnstown, NY', \"Trapin'\", 'Saint Andrews, Scotland', 'High in Prague with Aya', 'Mighty Tempe, Arizona', 'among the socially awkward ?', '{Daughter of Ares} {Eighteen}', 'Kearney (area) Nebraska', 'Tuscumbia, AL', 'Fukushima, JAPAN', 'france', 'Cramerton, NC', '@rejxctedmgc is my Harry?', 'Arizona, USA', 'Pleasantville, NY', 'vb/norfolk,va', 'KNOXVILLE TN USA', 'Pembroke Dock, Wales', 'UiTM, Shah Alam', 'Yellowknife NT Canada', 'Lismore, New South Wales', 'SQU\\\\/D, uk', 'Kansas  KS', 'The other side of the mirror', 'My own little world.', 'UberlÌ¢ndia - MG - Brasil', 'Melbourne VIC Australia', 'Nanaimo, BC', 'Salford, Greater Manchester', 'Issaquah, WA', 'FL.CO.HI.NJ', 'Wolverhampton ', 'Upper Dicker, England', \"luisa's heart\", '? In your head ?', 'Ontario CA', 'Seattle/Snohomish/Redlands', 'Nap town', 'Akron, Ohio ', 'OUTERSPACE', 'upstate NY', 'Hartford, CT', 'Plovdiv, Bulgaria', 'Outreach Africa', 'your mom', 'MANAGEMENT MULTIMEDIA', 'Flat Rock', 'Phuket', 'Philadelphia & Worldwide', 'Cape Town, South Africa', 'Bellingham, WA', 'St Marys, OH', 'Europa', 'O-Town , The left end', 'HamptonRoads, Virginia', 'Lexington, KY', 'The Floor', 'Montana/North Carolina', '121 N La Salle St, Suite 500', 'Buzz City ', 'University, FL', 'In your hearts and minds', 'Az', 'Digitosphere', 'LOST Angeles lol', 'West Covina CA', 'Derbyshire, England', 'New England ????', 'Missoula, MT', 'Be Earth', 'Wolfgangmuzic@gmail.com', 'San Bernardo - Chile'}\n",
            "Validation Accuracy: 0.7721602101116218\n",
            "              precision    recall  f1-score   support\n",
            "\n",
            "           0       0.77      0.87      0.81       874\n",
            "           1       0.78      0.65      0.71       649\n",
            "\n",
            "    accuracy                           0.77      1523\n",
            "   macro avg       0.77      0.76      0.76      1523\n",
            "weighted avg       0.77      0.77      0.77      1523\n",
            "\n",
            "Submission file created: submission.csv\n"
          ]
        }
      ]
    }
  ]
}